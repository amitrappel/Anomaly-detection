{
  "nbformat": 4,
  "nbformat_minor": 0,
  "metadata": {
    "kernelspec": {
      "display_name": "Python 3",
      "language": "python",
      "name": "python3"
    },
    "language_info": {
      "codemirror_mode": {
        "name": "ipython",
        "version": 3
      },
      "file_extension": ".py",
      "mimetype": "text/x-python",
      "name": "python",
      "nbconvert_exporter": "python",
      "pygments_lexer": "ipython3",
      "version": "3.7.6"
    },
    "colab": {
      "name": "Hybrid_Algorithm.ipynb",
      "provenance": [],
      "toc_visible": true,
      "include_colab_link": true
    }
  },
  "cells": [
    {
      "cell_type": "markdown",
      "metadata": {
        "id": "view-in-github",
        "colab_type": "text"
      },
      "source": [
        "<a href=\"https://colab.research.google.com/github/amitrappel/Anomaly-detection/blob/master/Hybrid_Algorithm.ipynb\" target=\"_parent\"><img src=\"https://colab.research.google.com/assets/colab-badge.svg\" alt=\"Open In Colab\"/></a>"
      ]
    },
    {
      "cell_type": "code",
      "metadata": {
        "id": "D-sAofjlKzlf",
        "outputId": "40fa6b39-903c-4bff-9b40-a3f40a329719",
        "colab": {
          "base_uri": "https://localhost:8080/",
          "height": 696
        }
      },
      "source": [
        "!pip install backtrader[plotting]\n",
        "!pip install yfinance"
      ],
      "execution_count": 1,
      "outputs": [
        {
          "output_type": "stream",
          "text": [
            "Collecting backtrader[plotting]\n",
            "\u001b[?25l  Downloading https://files.pythonhosted.org/packages/1a/bf/78aadd993e2719d6764603465fde163ba6ec15cf0e81f13e39ca13451348/backtrader-1.9.76.123-py2.py3-none-any.whl (410kB)\n",
            "\u001b[K     |████████████████████████████████| 419kB 2.6MB/s \n",
            "\u001b[?25hRequirement already satisfied: matplotlib; extra == \"plotting\" in /usr/local/lib/python3.6/dist-packages (from backtrader[plotting]) (3.2.2)\n",
            "Requirement already satisfied: numpy>=1.11 in /usr/local/lib/python3.6/dist-packages (from matplotlib; extra == \"plotting\"->backtrader[plotting]) (1.18.5)\n",
            "Requirement already satisfied: python-dateutil>=2.1 in /usr/local/lib/python3.6/dist-packages (from matplotlib; extra == \"plotting\"->backtrader[plotting]) (2.8.1)\n",
            "Requirement already satisfied: pyparsing!=2.0.4,!=2.1.2,!=2.1.6,>=2.0.1 in /usr/local/lib/python3.6/dist-packages (from matplotlib; extra == \"plotting\"->backtrader[plotting]) (2.4.7)\n",
            "Requirement already satisfied: kiwisolver>=1.0.1 in /usr/local/lib/python3.6/dist-packages (from matplotlib; extra == \"plotting\"->backtrader[plotting]) (1.2.0)\n",
            "Requirement already satisfied: cycler>=0.10 in /usr/local/lib/python3.6/dist-packages (from matplotlib; extra == \"plotting\"->backtrader[plotting]) (0.10.0)\n",
            "Requirement already satisfied: six>=1.5 in /usr/local/lib/python3.6/dist-packages (from python-dateutil>=2.1->matplotlib; extra == \"plotting\"->backtrader[plotting]) (1.15.0)\n",
            "Installing collected packages: backtrader\n",
            "Successfully installed backtrader-1.9.76.123\n",
            "Collecting yfinance\n",
            "  Downloading https://files.pythonhosted.org/packages/7a/e8/b9d7104d3a4bf39924799067592d9e59119fcfc900a425a12e80a3123ec8/yfinance-0.1.55.tar.gz\n",
            "Requirement already satisfied: pandas>=0.24 in /usr/local/lib/python3.6/dist-packages (from yfinance) (1.1.2)\n",
            "Requirement already satisfied: numpy>=1.15 in /usr/local/lib/python3.6/dist-packages (from yfinance) (1.18.5)\n",
            "Requirement already satisfied: requests>=2.20 in /usr/local/lib/python3.6/dist-packages (from yfinance) (2.23.0)\n",
            "Requirement already satisfied: multitasking>=0.0.7 in /usr/local/lib/python3.6/dist-packages (from yfinance) (0.0.9)\n",
            "Collecting lxml>=4.5.1\n",
            "\u001b[?25l  Downloading https://files.pythonhosted.org/packages/64/28/0b761b64ecbd63d272ed0e7a6ae6e4402fc37886b59181bfdf274424d693/lxml-4.6.1-cp36-cp36m-manylinux1_x86_64.whl (5.5MB)\n",
            "\u001b[K     |████████████████████████████████| 5.5MB 3.9MB/s \n",
            "\u001b[?25hRequirement already satisfied: pytz>=2017.2 in /usr/local/lib/python3.6/dist-packages (from pandas>=0.24->yfinance) (2018.9)\n",
            "Requirement already satisfied: python-dateutil>=2.7.3 in /usr/local/lib/python3.6/dist-packages (from pandas>=0.24->yfinance) (2.8.1)\n",
            "Requirement already satisfied: chardet<4,>=3.0.2 in /usr/local/lib/python3.6/dist-packages (from requests>=2.20->yfinance) (3.0.4)\n",
            "Requirement already satisfied: idna<3,>=2.5 in /usr/local/lib/python3.6/dist-packages (from requests>=2.20->yfinance) (2.10)\n",
            "Requirement already satisfied: urllib3!=1.25.0,!=1.25.1,<1.26,>=1.21.1 in /usr/local/lib/python3.6/dist-packages (from requests>=2.20->yfinance) (1.24.3)\n",
            "Requirement already satisfied: certifi>=2017.4.17 in /usr/local/lib/python3.6/dist-packages (from requests>=2.20->yfinance) (2020.6.20)\n",
            "Requirement already satisfied: six>=1.5 in /usr/local/lib/python3.6/dist-packages (from python-dateutil>=2.7.3->pandas>=0.24->yfinance) (1.15.0)\n",
            "Building wheels for collected packages: yfinance\n",
            "  Building wheel for yfinance (setup.py) ... \u001b[?25l\u001b[?25hdone\n",
            "  Created wheel for yfinance: filename=yfinance-0.1.55-py2.py3-none-any.whl size=22618 sha256=0e32c2282102b9186bc2ef4689c9cbcbd6a757af57c3a8c97d9ed9f90867ed99\n",
            "  Stored in directory: /root/.cache/pip/wheels/04/98/cc/2702a4242d60bdc14f48b4557c427ded1fe92aedf257d4565c\n",
            "Successfully built yfinance\n",
            "Installing collected packages: lxml, yfinance\n",
            "  Found existing installation: lxml 4.2.6\n",
            "    Uninstalling lxml-4.2.6:\n",
            "      Successfully uninstalled lxml-4.2.6\n",
            "Successfully installed lxml-4.6.1 yfinance-0.1.55\n"
          ],
          "name": "stdout"
        }
      ]
    },
    {
      "cell_type": "code",
      "metadata": {
        "id": "CY3gx304Krzv"
      },
      "source": [
        "from datetime import datetime\n",
        "from random import choice\n",
        "from collections import defaultdict\n",
        "import backtrader as bt\n",
        "import pandas as pd\n",
        "import yfinance as yf\n",
        "import matplotlib.pyplot as plt\n",
        "\n",
        "%matplotlib inline"
      ],
      "execution_count": 135,
      "outputs": []
    },
    {
      "cell_type": "markdown",
      "metadata": {
        "id": "Ze5QHBpRmXcL"
      },
      "source": [
        "# Select Stocks (static data)"
      ]
    },
    {
      "cell_type": "code",
      "metadata": {
        "id": "EcfFBXRPL9YB"
      },
      "source": [
        "fname = 'all_stocks_last_400.csv'"
      ],
      "execution_count": 16,
      "outputs": []
    },
    {
      "cell_type": "code",
      "metadata": {
        "id": "OGk69CTxLuVS"
      },
      "source": [
        "def get_history_data(filename):\n",
        "    df = pd.read_csv('all_stocks_last_400.csv')\n",
        "    df['dt'] = pd.to_datetime(df['Date'])   \n",
        "    return df"
      ],
      "execution_count": 17,
      "outputs": []
    },
    {
      "cell_type": "code",
      "metadata": {
        "id": "aag5FKlwMNhm"
      },
      "source": [
        "def clean_data(df):\n",
        "    df.drop(['Date', 'Dividends', 'Stock Splits', 'Adj Close', 'Volume'], axis=1, inplace=True)\n",
        "    df = df[df['dt'].dt.year == 2019]\n",
        "    return df"
      ],
      "execution_count": 18,
      "outputs": []
    },
    {
      "cell_type": "code",
      "metadata": {
        "id": "oUw2pZo4Krz_"
      },
      "source": [
        "df = get_history_data(filename=fname)\n",
        "df = clean_data(df)"
      ],
      "execution_count": 19,
      "outputs": []
    },
    {
      "cell_type": "code",
      "metadata": {
        "id": "v6StlXoaM2l_",
        "outputId": "47853245-d505-4bcd-ea13-884f87b940b2",
        "colab": {
          "base_uri": "https://localhost:8080/",
          "height": 202
        }
      },
      "source": [
        "df.sample(5)"
      ],
      "execution_count": 20,
      "outputs": [
        {
          "output_type": "execute_result",
          "data": {
            "text/html": [
              "<div>\n",
              "<style scoped>\n",
              "    .dataframe tbody tr th:only-of-type {\n",
              "        vertical-align: middle;\n",
              "    }\n",
              "\n",
              "    .dataframe tbody tr th {\n",
              "        vertical-align: top;\n",
              "    }\n",
              "\n",
              "    .dataframe thead th {\n",
              "        text-align: right;\n",
              "    }\n",
              "</style>\n",
              "<table border=\"1\" class=\"dataframe\">\n",
              "  <thead>\n",
              "    <tr style=\"text-align: right;\">\n",
              "      <th></th>\n",
              "      <th>Open</th>\n",
              "      <th>High</th>\n",
              "      <th>Low</th>\n",
              "      <th>Close</th>\n",
              "      <th>Symbol</th>\n",
              "      <th>dt</th>\n",
              "    </tr>\n",
              "  </thead>\n",
              "  <tbody>\n",
              "    <tr>\n",
              "      <th>122072</th>\n",
              "      <td>109.64</td>\n",
              "      <td>110.24</td>\n",
              "      <td>109.44</td>\n",
              "      <td>109.61</td>\n",
              "      <td>MDT</td>\n",
              "      <td>2019-11-22</td>\n",
              "    </tr>\n",
              "    <tr>\n",
              "      <th>177575</th>\n",
              "      <td>124.97</td>\n",
              "      <td>125.87</td>\n",
              "      <td>124.42</td>\n",
              "      <td>125.70</td>\n",
              "      <td>TT</td>\n",
              "      <td>2019-07-16</td>\n",
              "    </tr>\n",
              "    <tr>\n",
              "      <th>172161</th>\n",
              "      <td>373.14</td>\n",
              "      <td>373.97</td>\n",
              "      <td>370.99</td>\n",
              "      <td>373.23</td>\n",
              "      <td>TFX</td>\n",
              "      <td>2019-12-24</td>\n",
              "    </tr>\n",
              "    <tr>\n",
              "      <th>75161</th>\n",
              "      <td>85.76</td>\n",
              "      <td>87.35</td>\n",
              "      <td>85.26</td>\n",
              "      <td>87.08</td>\n",
              "      <td>FISV</td>\n",
              "      <td>2019-04-23</td>\n",
              "    </tr>\n",
              "    <tr>\n",
              "      <th>152807</th>\n",
              "      <td>35.57</td>\n",
              "      <td>35.93</td>\n",
              "      <td>35.46</td>\n",
              "      <td>35.62</td>\n",
              "      <td>PWR</td>\n",
              "      <td>2019-05-16</td>\n",
              "    </tr>\n",
              "  </tbody>\n",
              "</table>\n",
              "</div>"
            ],
            "text/plain": [
              "          Open    High     Low   Close Symbol         dt\n",
              "122072  109.64  110.24  109.44  109.61    MDT 2019-11-22\n",
              "177575  124.97  125.87  124.42  125.70     TT 2019-07-16\n",
              "172161  373.14  373.97  370.99  373.23    TFX 2019-12-24\n",
              "75161    85.76   87.35   85.26   87.08   FISV 2019-04-23\n",
              "152807   35.57   35.93   35.46   35.62    PWR 2019-05-16"
            ]
          },
          "metadata": {
            "tags": []
          },
          "execution_count": 20
        }
      ]
    },
    {
      "cell_type": "markdown",
      "metadata": {
        "id": "kYDOiNAjNWg0"
      },
      "source": [
        "# Select stocks"
      ]
    },
    {
      "cell_type": "markdown",
      "metadata": {
        "id": "Wg_2duZ1NY0I"
      },
      "source": [
        "## Option 1 - yearly return quantiles (rank)"
      ]
    },
    {
      "cell_type": "code",
      "metadata": {
        "id": "rQmV5yPCOk6b"
      },
      "source": [
        "def get_yearly_return(df_symbol):\n",
        "    return 100*(df_symbol['Close'].iloc[-1] - df_symbol['Open'].iloc[0]) / df_symbol['Open'].iloc[0]"
      ],
      "execution_count": 91,
      "outputs": []
    },
    {
      "cell_type": "code",
      "metadata": {
        "id": "K30NPbQGOmBI",
        "outputId": "338732db-1633-4b41-f8d8-801c776c4301",
        "colab": {
          "base_uri": "https://localhost:8080/",
          "height": 233
        }
      },
      "source": [
        "stocks = df.groupby('Symbol').apply(get_yearly_return).sort_values().to_frame(name='return')\n",
        "stocks.sample(5)"
      ],
      "execution_count": 92,
      "outputs": [
        {
          "output_type": "execute_result",
          "data": {
            "text/html": [
              "<div>\n",
              "<style scoped>\n",
              "    .dataframe tbody tr th:only-of-type {\n",
              "        vertical-align: middle;\n",
              "    }\n",
              "\n",
              "    .dataframe tbody tr th {\n",
              "        vertical-align: top;\n",
              "    }\n",
              "\n",
              "    .dataframe thead th {\n",
              "        text-align: right;\n",
              "    }\n",
              "</style>\n",
              "<table border=\"1\" class=\"dataframe\">\n",
              "  <thead>\n",
              "    <tr style=\"text-align: right;\">\n",
              "      <th></th>\n",
              "      <th>return</th>\n",
              "    </tr>\n",
              "    <tr>\n",
              "      <th>Symbol</th>\n",
              "      <th></th>\n",
              "    </tr>\n",
              "  </thead>\n",
              "  <tbody>\n",
              "    <tr>\n",
              "      <th>NWL</th>\n",
              "      <td>12.688822</td>\n",
              "    </tr>\n",
              "    <tr>\n",
              "      <th>HIG</th>\n",
              "      <td>42.527368</td>\n",
              "    </tr>\n",
              "    <tr>\n",
              "      <th>WFC</th>\n",
              "      <td>22.897527</td>\n",
              "    </tr>\n",
              "    <tr>\n",
              "      <th>JKHY</th>\n",
              "      <td>18.282729</td>\n",
              "    </tr>\n",
              "    <tr>\n",
              "      <th>ATVI</th>\n",
              "      <td>32.354260</td>\n",
              "    </tr>\n",
              "  </tbody>\n",
              "</table>\n",
              "</div>"
            ],
            "text/plain": [
              "           return\n",
              "Symbol           \n",
              "NWL     12.688822\n",
              "HIG     42.527368\n",
              "WFC     22.897527\n",
              "JKHY    18.282729\n",
              "ATVI    32.354260"
            ]
          },
          "metadata": {
            "tags": []
          },
          "execution_count": 92
        }
      ]
    },
    {
      "cell_type": "code",
      "metadata": {
        "id": "blGqoqx4P5XX",
        "outputId": "f1ac3104-d903-4015-91be-9dc304ed099e",
        "colab": {
          "base_uri": "https://localhost:8080/",
          "height": 233
        }
      },
      "source": [
        "n_quantiles = 7\n",
        "quantiles = stocks['return'].quantile([i/n_quantiles for i in range(n_quantiles+1)])\n",
        "stocks['Rank'] = pd.cut(stocks['return'], bins=quantiles, labels=range(1, n_quantiles+1))\n",
        "stocks.sample(5)"
      ],
      "execution_count": 93,
      "outputs": [
        {
          "output_type": "execute_result",
          "data": {
            "text/html": [
              "<div>\n",
              "<style scoped>\n",
              "    .dataframe tbody tr th:only-of-type {\n",
              "        vertical-align: middle;\n",
              "    }\n",
              "\n",
              "    .dataframe tbody tr th {\n",
              "        vertical-align: top;\n",
              "    }\n",
              "\n",
              "    .dataframe thead th {\n",
              "        text-align: right;\n",
              "    }\n",
              "</style>\n",
              "<table border=\"1\" class=\"dataframe\">\n",
              "  <thead>\n",
              "    <tr style=\"text-align: right;\">\n",
              "      <th></th>\n",
              "      <th>return</th>\n",
              "      <th>Rank</th>\n",
              "    </tr>\n",
              "    <tr>\n",
              "      <th>Symbol</th>\n",
              "      <th></th>\n",
              "      <th></th>\n",
              "    </tr>\n",
              "  </thead>\n",
              "  <tbody>\n",
              "    <tr>\n",
              "      <th>AME</th>\n",
              "      <td>50.416477</td>\n",
              "      <td>6</td>\n",
              "    </tr>\n",
              "    <tr>\n",
              "      <th>ETR</th>\n",
              "      <td>45.027080</td>\n",
              "      <td>6</td>\n",
              "    </tr>\n",
              "    <tr>\n",
              "      <th>BBY</th>\n",
              "      <td>73.027633</td>\n",
              "      <td>7</td>\n",
              "    </tr>\n",
              "    <tr>\n",
              "      <th>WELL</th>\n",
              "      <td>24.159402</td>\n",
              "      <td>3</td>\n",
              "    </tr>\n",
              "    <tr>\n",
              "      <th>CAH</th>\n",
              "      <td>19.323326</td>\n",
              "      <td>3</td>\n",
              "    </tr>\n",
              "  </tbody>\n",
              "</table>\n",
              "</div>"
            ],
            "text/plain": [
              "           return Rank\n",
              "Symbol                \n",
              "AME     50.416477    6\n",
              "ETR     45.027080    6\n",
              "BBY     73.027633    7\n",
              "WELL    24.159402    3\n",
              "CAH     19.323326    3"
            ]
          },
          "metadata": {
            "tags": []
          },
          "execution_count": 93
        }
      ]
    },
    {
      "cell_type": "code",
      "metadata": {
        "id": "u2BtsHOxQLh8",
        "outputId": "87b17bf0-74c6-46e8-d497-055192b75d07",
        "colab": {
          "base_uri": "https://localhost:8080/",
          "height": 35
        }
      },
      "source": [
        "rank = n_quantiles  # best quantile\n",
        "group_stocks = stocks[stocks['Rank'] == rank].index.tolist()\n",
        "group_stocks[10:15]"
      ],
      "execution_count": 134,
      "outputs": [
        {
          "output_type": "execute_result",
          "data": {
            "text/plain": [
              "['NVR', 'SYF', 'INFO', 'ALLE', 'FISV']"
            ]
          },
          "metadata": {
            "tags": []
          },
          "execution_count": 134
        }
      ]
    },
    {
      "cell_type": "markdown",
      "metadata": {
        "id": "ucfgePXRQhVA"
      },
      "source": [
        "## Option 2 - business"
      ]
    },
    {
      "cell_type": "markdown",
      "metadata": {
        "id": "L-TXS0RiQnph"
      },
      "source": [
        "# Get the data (*yfinance* & *backtracder*)"
      ]
    },
    {
      "cell_type": "code",
      "metadata": {
        "id": "_ECRbg6YOWVt",
        "outputId": "c8fbbbc0-0cd8-4582-abdc-ea802c88409c",
        "colab": {
          "base_uri": "https://localhost:8080/",
          "height": 35
        }
      },
      "source": [
        "my_stock = choice(rank_stocks)\n",
        "my_stock"
      ],
      "execution_count": 100,
      "outputs": [
        {
          "output_type": "execute_result",
          "data": {
            "application/vnd.google.colaboratory.intrinsic+json": {
              "type": "string"
            },
            "text/plain": [
              "'CPB'"
            ]
          },
          "metadata": {
            "tags": []
          },
          "execution_count": 100
        }
      ]
    },
    {
      "cell_type": "code",
      "metadata": {
        "id": "kVYtNJHPQYHi"
      },
      "source": [
        "def get_contract(stock):\n",
        "    contract = yf.Ticker(stock)\n",
        "    contract_history = contract.history(start ='2019-01-01',\n",
        "                                        end='2020-01-01',  \n",
        "                                        interval='1d')\n",
        "    data_pd = bt.feeds.PandasData(dataname=contract_history)\n",
        "    return contract_history, data_pd"
      ],
      "execution_count": 101,
      "outputs": []
    },
    {
      "cell_type": "code",
      "metadata": {
        "id": "_wOW7OWERG9B"
      },
      "source": [
        "contract_history, data_pd = get_contract(my_stock)"
      ],
      "execution_count": 102,
      "outputs": []
    },
    {
      "cell_type": "code",
      "metadata": {
        "id": "8qvD25ejLLmd",
        "outputId": "ad309efe-17d9-4f26-99cd-d924ee6e74fd",
        "colab": {
          "base_uri": "https://localhost:8080/",
          "height": 233
        }
      },
      "source": [
        "contract_history.head()"
      ],
      "execution_count": 103,
      "outputs": [
        {
          "output_type": "execute_result",
          "data": {
            "text/html": [
              "<div>\n",
              "<style scoped>\n",
              "    .dataframe tbody tr th:only-of-type {\n",
              "        vertical-align: middle;\n",
              "    }\n",
              "\n",
              "    .dataframe tbody tr th {\n",
              "        vertical-align: top;\n",
              "    }\n",
              "\n",
              "    .dataframe thead th {\n",
              "        text-align: right;\n",
              "    }\n",
              "</style>\n",
              "<table border=\"1\" class=\"dataframe\">\n",
              "  <thead>\n",
              "    <tr style=\"text-align: right;\">\n",
              "      <th></th>\n",
              "      <th>Open</th>\n",
              "      <th>High</th>\n",
              "      <th>Low</th>\n",
              "      <th>Close</th>\n",
              "      <th>Volume</th>\n",
              "      <th>Dividends</th>\n",
              "      <th>Stock Splits</th>\n",
              "    </tr>\n",
              "    <tr>\n",
              "      <th>Date</th>\n",
              "      <th></th>\n",
              "      <th></th>\n",
              "      <th></th>\n",
              "      <th></th>\n",
              "      <th></th>\n",
              "      <th></th>\n",
              "      <th></th>\n",
              "    </tr>\n",
              "  </thead>\n",
              "  <tbody>\n",
              "    <tr>\n",
              "      <th>2019-01-02</th>\n",
              "      <td>30.717235</td>\n",
              "      <td>30.829755</td>\n",
              "      <td>30.032755</td>\n",
              "      <td>30.248413</td>\n",
              "      <td>3518900</td>\n",
              "      <td>0.00</td>\n",
              "      <td>0</td>\n",
              "    </tr>\n",
              "    <tr>\n",
              "      <th>2019-01-03</th>\n",
              "      <td>30.210910</td>\n",
              "      <td>31.017285</td>\n",
              "      <td>30.089015</td>\n",
              "      <td>30.623472</td>\n",
              "      <td>3312900</td>\n",
              "      <td>0.00</td>\n",
              "      <td>0</td>\n",
              "    </tr>\n",
              "    <tr>\n",
              "      <th>2019-01-04</th>\n",
              "      <td>30.585971</td>\n",
              "      <td>31.045418</td>\n",
              "      <td>30.360938</td>\n",
              "      <td>30.792253</td>\n",
              "      <td>2520400</td>\n",
              "      <td>0.00</td>\n",
              "      <td>0</td>\n",
              "    </tr>\n",
              "    <tr>\n",
              "      <th>2019-01-07</th>\n",
              "      <td>30.689109</td>\n",
              "      <td>31.786155</td>\n",
              "      <td>30.407816</td>\n",
              "      <td>31.589247</td>\n",
              "      <td>3543600</td>\n",
              "      <td>0.00</td>\n",
              "      <td>0</td>\n",
              "    </tr>\n",
              "    <tr>\n",
              "      <th>2019-01-08</th>\n",
              "      <td>31.589246</td>\n",
              "      <td>31.977716</td>\n",
              "      <td>31.342901</td>\n",
              "      <td>31.826118</td>\n",
              "      <td>2296900</td>\n",
              "      <td>0.35</td>\n",
              "      <td>0</td>\n",
              "    </tr>\n",
              "  </tbody>\n",
              "</table>\n",
              "</div>"
            ],
            "text/plain": [
              "                 Open       High        Low  ...   Volume  Dividends  Stock Splits\n",
              "Date                                         ...                                  \n",
              "2019-01-02  30.717235  30.829755  30.032755  ...  3518900       0.00             0\n",
              "2019-01-03  30.210910  31.017285  30.089015  ...  3312900       0.00             0\n",
              "2019-01-04  30.585971  31.045418  30.360938  ...  2520400       0.00             0\n",
              "2019-01-07  30.689109  31.786155  30.407816  ...  3543600       0.00             0\n",
              "2019-01-08  31.589246  31.977716  31.342901  ...  2296900       0.35             0\n",
              "\n",
              "[5 rows x 7 columns]"
            ]
          },
          "metadata": {
            "tags": []
          },
          "execution_count": 103
        }
      ]
    },
    {
      "cell_type": "code",
      "metadata": {
        "id": "b4zs4Dl6SkKQ",
        "outputId": "cabcc1ca-4b92-4473-ba19-f2a4b19e8b99",
        "colab": {
          "base_uri": "https://localhost:8080/",
          "height": 35
        }
      },
      "source": [
        "data_pd"
      ],
      "execution_count": 104,
      "outputs": [
        {
          "output_type": "execute_result",
          "data": {
            "text/plain": [
              "<backtrader.feeds.pandafeed.PandasData at 0x7ff831bc29b0>"
            ]
          },
          "metadata": {
            "tags": []
          },
          "execution_count": 104
        }
      ]
    },
    {
      "cell_type": "markdown",
      "metadata": {
        "id": "T6Uwy_6vn71Y"
      },
      "source": [
        "# Define strategies"
      ]
    },
    {
      "cell_type": "markdown",
      "metadata": {
        "id": "IufrxAlce2k2"
      },
      "source": [
        "## Option 1 - Test strategy"
      ]
    },
    {
      "cell_type": "markdown",
      "metadata": {
        "id": "nIPCMtClW4kq"
      },
      "source": [
        "> **Reference:** Taken from [backtrader quickstart docs](https://www.backtrader.com/docu/quickstart/quickstart/)"
      ]
    },
    {
      "cell_type": "code",
      "metadata": {
        "id": "xIWKNp2jr91h"
      },
      "source": [
        "class TestStrategy(bt.Strategy):\n",
        "\n",
        "    def log(self, txt, dt=None):\n",
        "        ''' Logging function fot this strategy'''\n",
        "        dt = dt or self.datas[0].datetime.date(0)\n",
        "        print('%s, %s' % (dt.isoformat(), txt))\n",
        "\n",
        "    def __init__(self):\n",
        "        # Keep a reference to the \"close\" line in the data[0] dataseries\n",
        "        self.dataclose = self.datas[0].close\n",
        "\n",
        "        # To keep track of pending orders\n",
        "        self.order = None\n",
        "\n",
        "    def notify_order(self, order):\n",
        "        if order.status in [order.Submitted, order.Accepted]:\n",
        "            # Buy/Sell order submitted/accepted to/by broker - Nothing to do\n",
        "            return\n",
        "\n",
        "        # Check if an order has been completed\n",
        "        # Attention: broker could reject order if not enough cash\n",
        "        if order.status in [order.Completed]:\n",
        "            if order.isbuy():\n",
        "                self.log('BUY EXECUTED, %.2f' % order.executed.price)\n",
        "            elif order.issell():\n",
        "                self.log('SELL EXECUTED, %.2f' % order.executed.price)\n",
        "\n",
        "            self.bar_executed = len(self)\n",
        "\n",
        "        elif order.status in [order.Canceled, order.Margin, order.Rejected]:\n",
        "            self.log('Order Canceled/Margin/Rejected')\n",
        "\n",
        "        # Write down: no pending order\n",
        "        self.order = None\n",
        "\n",
        "    def next(self):\n",
        "        # Simply log the closing price of the series from the reference\n",
        "        # self.log('Close, %.2f' % self.dataclose[0])\n",
        "\n",
        "        # Check if an order is pending ... if yes, we cannot send a 2nd one\n",
        "        if self.order:\n",
        "            return\n",
        "\n",
        "        # Check if we are in the market\n",
        "        if not self.position:\n",
        "\n",
        "            # Not yet ... we MIGHT BUY if ...\n",
        "            if self.dataclose[0] < self.dataclose[-1]:\n",
        "                    # current close less than previous close\n",
        "\n",
        "                    if self.dataclose[-1] < self.dataclose[-2]:\n",
        "                        # previous close less than the previous close\n",
        "\n",
        "                        # BUY, BUY, BUY!!! (with default parameters)\n",
        "                        self.log('BUY CREATE, %.2f' % self.dataclose[0])\n",
        "\n",
        "                        # Keep track of the created order to avoid a 2nd order\n",
        "                        self.order = self.buy()\n",
        "\n",
        "        else:\n",
        "\n",
        "            # Already in the market ... we might sell\n",
        "            if len(self) >= (self.bar_executed + 5):\n",
        "                # SELL, SELL, SELL!!! (with all possible default parameters)\n",
        "                self.log('SELL CREATE, %.2f' % self.dataclose[0])\n",
        "\n",
        "                # Keep track of the created order to avoid a 2nd order\n",
        "                self.order = self.sell()"
      ],
      "execution_count": 105,
      "outputs": []
    },
    {
      "cell_type": "markdown",
      "metadata": {
        "id": "gubW108oe7pS"
      },
      "source": [
        "## Option 2 - SMA crossing"
      ]
    },
    {
      "cell_type": "code",
      "metadata": {
        "id": "KNyJyGfiKr0e"
      },
      "source": [
        "class SmaCross(bt.SignalStrategy):\n",
        "    params = (('fast',10),\n",
        "              ('slow',30),\n",
        "             )\n",
        "    def __init__(self):\n",
        "        self.sma_fast = bt.ind.SMA(period=self.params.fast)\n",
        "        self.sma_slow = bt.ind.SMA(period=self.params.slow)\n",
        "\n",
        "    def start(self):\n",
        "        pass\n",
        "\n",
        "    \n",
        "    def next(self):\n",
        "        if self.position.size == 0:\n",
        "            if self.sma_fast  > self.sma_slow:\n",
        "                self.buy()\n",
        "        elif self.position.size != 0:\n",
        "            if self.sma_fast < self.sma_slow:\n",
        "                self.sell()\n",
        "\n",
        "    def stop(self):\n",
        "        pass \n",
        "        \n",
        "    def notify_order(self, order):\n",
        "        if order.status in [order.Completed]:\n",
        "            if order.isbuy():\n",
        "                pass\n",
        "            else:  # Sell\n",
        "                pass        "
      ],
      "execution_count": 106,
      "outputs": []
    },
    {
      "cell_type": "markdown",
      "metadata": {
        "id": "uzUM528UiE2d"
      },
      "source": [
        "## Option 3 - TBD (LSTM?)"
      ]
    },
    {
      "cell_type": "markdown",
      "metadata": {
        "id": "Imrqy3S5e_cZ"
      },
      "source": [
        "# Apply startegy"
      ]
    },
    {
      "cell_type": "markdown",
      "metadata": {
        "id": "GNttaQM6pyQX"
      },
      "source": [
        "## Cerebro"
      ]
    },
    {
      "cell_type": "code",
      "metadata": {
        "id": "PyyPCdbwarHm"
      },
      "source": [
        "cerebro = bt.Cerebro()"
      ],
      "execution_count": 109,
      "outputs": []
    },
    {
      "cell_type": "code",
      "metadata": {
        "id": "QIGxmmzUbYp8"
      },
      "source": [
        "my_cash = 100000\n",
        "cerebro.broker.setcash(my_cash)"
      ],
      "execution_count": 114,
      "outputs": []
    },
    {
      "cell_type": "code",
      "metadata": {
        "id": "6_PbEaoUazeO"
      },
      "source": [
        "fast = 10\n",
        "slow = 30\n",
        "hyper_parameters = {'fast': fast, 'slow': slow}"
      ],
      "execution_count": 110,
      "outputs": []
    },
    {
      "cell_type": "code",
      "metadata": {
        "id": "NVA0enI-n590",
        "outputId": "851446fb-9d27-4e18-d369-2ff8d8d130a6",
        "colab": {
          "base_uri": "https://localhost:8080/",
          "height": 35
        }
      },
      "source": [
        "cerebro.addstrategy(SmaCross, **hyper_parameters)\n",
        "# cerebro.addstrategy(TestStrategy)"
      ],
      "execution_count": 111,
      "outputs": [
        {
          "output_type": "execute_result",
          "data": {
            "text/plain": [
              "0"
            ]
          },
          "metadata": {
            "tags": []
          },
          "execution_count": 111
        }
      ]
    },
    {
      "cell_type": "code",
      "metadata": {
        "id": "Z1CeSe0ma68-"
      },
      "source": [
        "cerebro.adddata(data_pd)\n",
        "cerebro.addsizer(bt.sizers.PercentSizer, percents = 90)\n",
        "# cerebro.addwriter(bt.WriterFile, out=None ,csv=True)"
      ],
      "execution_count": 112,
      "outputs": []
    },
    {
      "cell_type": "code",
      "metadata": {
        "id": "wMGhOe18yy4y",
        "outputId": "7ca36a9b-0efd-4711-e61f-f0135da4d8d2",
        "colab": {
          "base_uri": "https://localhost:8080/",
          "height": 52
        }
      },
      "source": [
        "print('Starting Portfolio Value: %.2f' % cerebro.broker.getvalue())\n",
        "cerebro.run()\n",
        "print('Starting Portfolio Value: %.2f' % cerebro.broker.getvalue())"
      ],
      "execution_count": 113,
      "outputs": [
        {
          "output_type": "stream",
          "text": [
            "Starting Portfolio Value: 100000.00\n",
            "Starting Portfolio Value: 118137.87\n"
          ],
          "name": "stdout"
        }
      ]
    },
    {
      "cell_type": "markdown",
      "metadata": {
        "id": "ZzrrPDSwikqR"
      },
      "source": [
        "## Single stock"
      ]
    },
    {
      "cell_type": "code",
      "metadata": {
        "id": "a-olJxuybABz"
      },
      "source": [
        "def apply_strategy(strategy, data, cash=100000, **hyper_parameters):\n",
        "    cerebro = bt.Cerebro()\n",
        "    cerebro.broker.setcash(cash)\n",
        "    cerebro.addstrategy(strategy, **hyper_parameters)\n",
        "    cerebro.adddata(data)\n",
        "    cerebro.addsizer(bt.sizers.PercentSizer, percents = 90)\n",
        "    cerebro.run()\n",
        "    profit = cerebro.broker.getvalue() - cash\n",
        "    return profit"
      ],
      "execution_count": 119,
      "outputs": []
    },
    {
      "cell_type": "code",
      "metadata": {
        "id": "qzj_Zpeoy6Xk",
        "outputId": "e785ef1d-04b7-4105-d3c7-bcbf3e45bc1b",
        "colab": {
          "base_uri": "https://localhost:8080/",
          "height": 307
        }
      },
      "source": [
        "# cerebro.plot()[0][0]"
      ],
      "execution_count": 120,
      "outputs": [
        {
          "output_type": "execute_result",
          "data": {
            "image/png": "[encoded data removed]",
            "text/plain": [
              "<Figure size 432x288 with 4 Axes>"
            ]
          },
          "metadata": {
            "tags": []
          },
          "execution_count": 120
        }
      ]
    },
    {
      "cell_type": "markdown",
      "metadata": {
        "id": "QKtiPD2LlgaX"
      },
      "source": [
        "> **Note:** This is for the SmcCross strategy. Other strategies will use different hyper-parameters."
      ]
    },
    {
      "cell_type": "code",
      "metadata": {
        "id": "lyIvWhats1la",
        "outputId": "42f36f49-6019-4abf-c516-548255e9d5a5",
        "colab": {
          "base_uri": "https://localhost:8080/",
          "height": 208
        }
      },
      "source": [
        "for fast in [3, 5, 10]:\n",
        "    for slow in [10, 15, 20, 30]:\n",
        "        if fast < slow:\n",
        "            my_hyper_parameters = {'fast': fast, 'slow': slow}\n",
        "            profit = apply_strategy(strategy=SmaCross, \n",
        "                                    data=data_pd, \n",
        "                                    cash=my_cash,\n",
        "                                    **my_hyper_parameters)\n",
        "            print(f'{my_hyper_parameters}: {profit/my_cash:.2%}')"
      ],
      "execution_count": 132,
      "outputs": [
        {
          "output_type": "stream",
          "text": [
            "{'fast': 3, 'slow': 10}: -6.72%\n",
            "{'fast': 3, 'slow': 15}: -5.11%\n",
            "{'fast': 3, 'slow': 20}: -1.09%\n",
            "{'fast': 3, 'slow': 30}: 13.22%\n",
            "{'fast': 5, 'slow': 10}: -16.99%\n",
            "{'fast': 5, 'slow': 15}: 5.45%\n",
            "{'fast': 5, 'slow': 20}: -0.41%\n",
            "{'fast': 5, 'slow': 30}: 8.43%\n",
            "{'fast': 10, 'slow': 15}: 13.22%\n",
            "{'fast': 10, 'slow': 20}: 8.84%\n",
            "{'fast': 10, 'slow': 30}: 18.14%\n"
          ],
          "name": "stdout"
        }
      ]
    },
    {
      "cell_type": "markdown",
      "metadata": {
        "id": "H8WBOZ1EjIYK"
      },
      "source": [
        "## Multiple stocks"
      ]
    },
    {
      "cell_type": "code",
      "metadata": {
        "id": "XOeYEL7UsNqJ",
        "outputId": "6d3df7c8-cdec-4c1e-8042-6dbc4c96b573",
        "colab": {
          "base_uri": "https://localhost:8080/",
          "height": 245
        }
      },
      "source": [
        "profits = defaultdict(int)\n",
        "for fast in [3, 5, 10]:\n",
        "    for slow in [10, 15, 20, 30]:\n",
        "        if fast < slow:\n",
        "            print('\\n', fast, slow, end=' ')\n",
        "            for my_stock in group_stocks:\n",
        "                print(my_stock, end=' ')\n",
        "                _, data_pd = get_contract(my_stock)\n",
        "\n",
        "                my_hyper_parameters = {'fast': fast, 'slow': slow}\n",
        "                stock_profit = apply_strategy(strategy=SmaCross,\n",
        "                                            data=data_pd, \n",
        "                                            cash=my_cash,\n",
        "                                            **my_hyper_parameters)\n",
        "                profits[(fast, slow)] += stock_profit"
      ],
      "execution_count": 147,
      "outputs": [
        {
          "output_type": "stream",
          "text": [
            "\n",
            " 3 10 CPB DHI FLT ODFL J ZTS PLD HLT APTV FB NVR SYF INFO ALLE FISV EL MSFT GRMN FMC MA C NOW CDNS QCOM SPGI ZBRA CTAS WU KSU STX AMP URI MLM CAG KEYS DOV SNPS MAS EQIX TIF HES BBY CHTR MU MCO TSN FBHS GPN MSCI NVDA WDC CDW COTY MKTX ANSS TDG DXCM SWKS LDOS AAPL CPRT AMAT QRVO XRX CMG IR TGT KLAC PAYC LRCX ETN AMD \n",
            " 3 15 CPB DHI FLT ODFL J ZTS PLD HLT APTV FB NVR SYF INFO ALLE FISV EL MSFT GRMN FMC MA C NOW CDNS QCOM SPGI ZBRA CTAS WU KSU STX AMP URI MLM CAG KEYS DOV SNPS MAS EQIX TIF HES BBY CHTR MU MCO TSN FBHS GPN MSCI NVDA WDC CDW COTY MKTX ANSS TDG DXCM SWKS LDOS AAPL CPRT AMAT QRVO XRX CMG IR TGT KLAC PAYC LRCX ETN AMD \n",
            " 3 20 CPB DHI FLT ODFL J ZTS PLD HLT APTV FB NVR SYF INFO ALLE FISV EL MSFT GRMN FMC MA C NOW CDNS QCOM SPGI ZBRA CTAS WU KSU STX AMP URI MLM CAG KEYS DOV SNPS MAS EQIX TIF HES BBY CHTR MU MCO TSN FBHS GPN MSCI NVDA WDC CDW COTY MKTX ANSS TDG DXCM SWKS LDOS AAPL CPRT AMAT QRVO XRX CMG IR TGT KLAC PAYC LRCX ETN AMD \n",
            " 3 30 CPB DHI FLT ODFL J ZTS PLD HLT APTV FB NVR SYF INFO ALLE FISV EL MSFT GRMN FMC MA C NOW CDNS QCOM SPGI ZBRA CTAS WU KSU STX AMP URI MLM CAG KEYS DOV SNPS MAS EQIX TIF HES BBY CHTR MU MCO TSN FBHS GPN MSCI NVDA WDC CDW COTY MKTX ANSS TDG DXCM SWKS LDOS AAPL CPRT AMAT QRVO XRX CMG IR TGT KLAC PAYC LRCX ETN AMD \n",
            " 5 10 CPB DHI FLT ODFL J ZTS PLD HLT APTV FB NVR SYF INFO ALLE FISV EL MSFT GRMN FMC MA C NOW CDNS QCOM SPGI ZBRA CTAS WU KSU STX AMP URI MLM CAG KEYS DOV SNPS MAS EQIX TIF HES BBY CHTR MU MCO TSN FBHS GPN MSCI NVDA WDC CDW COTY MKTX ANSS TDG DXCM SWKS LDOS AAPL CPRT AMAT QRVO XRX CMG IR TGT KLAC PAYC LRCX ETN AMD \n",
            " 5 15 CPB DHI FLT ODFL J ZTS PLD HLT APTV FB NVR SYF INFO ALLE FISV EL MSFT GRMN FMC MA C NOW CDNS QCOM SPGI ZBRA CTAS WU KSU STX AMP URI MLM CAG KEYS DOV SNPS MAS EQIX TIF HES BBY CHTR MU MCO TSN FBHS GPN MSCI NVDA WDC CDW COTY MKTX ANSS TDG DXCM SWKS LDOS AAPL CPRT AMAT QRVO XRX CMG IR TGT KLAC PAYC LRCX ETN AMD \n",
            " 5 20 CPB DHI FLT ODFL J ZTS PLD HLT APTV FB NVR SYF INFO ALLE FISV EL MSFT GRMN FMC MA C NOW CDNS QCOM SPGI ZBRA CTAS WU KSU STX AMP URI MLM CAG KEYS DOV SNPS MAS EQIX TIF HES BBY CHTR MU MCO TSN FBHS GPN MSCI NVDA WDC CDW COTY MKTX ANSS TDG DXCM SWKS LDOS AAPL CPRT AMAT QRVO XRX CMG IR TGT KLAC PAYC LRCX ETN AMD \n",
            " 5 30 CPB DHI FLT ODFL J ZTS PLD HLT APTV FB NVR SYF INFO ALLE FISV EL MSFT GRMN FMC MA C NOW CDNS QCOM SPGI ZBRA CTAS WU KSU STX AMP URI MLM CAG KEYS DOV SNPS MAS EQIX TIF HES BBY CHTR MU MCO TSN FBHS GPN MSCI NVDA WDC CDW COTY MKTX ANSS TDG DXCM SWKS LDOS AAPL CPRT AMAT QRVO XRX CMG IR TGT KLAC PAYC LRCX ETN AMD \n",
            " 10 15 CPB DHI FLT ODFL J ZTS PLD HLT APTV FB NVR SYF INFO ALLE FISV EL MSFT GRMN FMC MA C NOW CDNS QCOM SPGI ZBRA CTAS WU KSU STX AMP URI MLM CAG KEYS DOV SNPS MAS EQIX TIF HES BBY CHTR MU MCO TSN FBHS GPN MSCI NVDA WDC CDW COTY MKTX ANSS TDG DXCM SWKS LDOS AAPL CPRT AMAT QRVO XRX CMG IR TGT KLAC PAYC LRCX ETN AMD \n",
            " 10 20 CPB DHI FLT ODFL J ZTS PLD HLT APTV FB NVR SYF INFO ALLE FISV EL MSFT GRMN FMC MA C NOW CDNS QCOM SPGI ZBRA CTAS WU KSU STX AMP URI MLM CAG KEYS DOV SNPS MAS EQIX TIF HES BBY CHTR MU MCO TSN FBHS GPN MSCI NVDA WDC CDW COTY MKTX ANSS TDG DXCM SWKS LDOS AAPL CPRT AMAT QRVO XRX CMG IR TGT KLAC PAYC LRCX ETN AMD \n",
            " 10 30 CPB DHI FLT ODFL J ZTS PLD HLT APTV FB NVR SYF INFO ALLE FISV EL MSFT GRMN FMC MA C NOW CDNS QCOM SPGI ZBRA CTAS WU KSU STX AMP URI MLM CAG KEYS DOV SNPS MAS EQIX TIF HES BBY CHTR MU MCO TSN FBHS GPN MSCI NVDA WDC CDW COTY MKTX ANSS TDG DXCM SWKS LDOS AAPL CPRT AMAT QRVO XRX CMG IR TGT KLAC PAYC LRCX ETN AMD "
          ],
          "name": "stdout"
        }
      ]
    },
    {
      "cell_type": "code",
      "metadata": {
        "id": "xbHrx4lSpU9E",
        "outputId": "ae65655e-43cd-47f1-f83f-b0a087a802bb",
        "colab": {
          "base_uri": "https://localhost:8080/",
          "height": 208
        }
      },
      "source": [
        "sorted(map(lambda tup: (tup[1]/my_cash, tup[0]), profits.items()), reverse=True)"
      ],
      "execution_count": 152,
      "outputs": [
        {
          "output_type": "execute_result",
          "data": {
            "text/plain": [
              "[(23.927685850311033, (10, 15)),\n",
              " (22.68414722262608, (5, 15)),\n",
              " (22.668352307162426, (3, 15)),\n",
              " (22.541099819828506, (5, 10)),\n",
              " (22.2582690623999, (3, 10)),\n",
              " (20.78933477271747, (10, 20)),\n",
              " (19.250244325431144, (5, 20)),\n",
              " (18.776499788557796, (3, 20)),\n",
              " (15.73255678672307, (10, 30)),\n",
              " (15.182813450305265, (5, 30)),\n",
              " (14.359082235418843, (3, 30))]"
            ]
          },
          "metadata": {
            "tags": []
          },
          "execution_count": 152
        }
      ]
    }
  ]
}